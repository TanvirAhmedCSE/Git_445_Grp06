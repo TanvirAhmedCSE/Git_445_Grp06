{
 "cells": [
  {
   "cell_type": "code",
   "execution_count": 1,
   "id": "1b68c597-362b-4a51-99ca-9462338f0233",
   "metadata": {},
   "outputs": [],
   "source": [
    "import os\n",
    "import librosa\n",
    "import numpy as np"
   ]
  },
  {
   "cell_type": "code",
   "execution_count": 2,
   "id": "8091a457-54ef-472a-87a8-bef1696bb372",
   "metadata": {},
   "outputs": [],
   "source": [
    "# Function to extract MFCC + delta features from audio files\n",
    "def extract_features(file_path):\n",
    "    audio, sample_rate = librosa.load(file_path, res_type='kaiser_fast')\n",
    "    mfccs = librosa.feature.mfcc(y=audio, sr=sample_rate, n_mfcc=40)\n",
    "    mfccs_delta = librosa.feature.delta(mfccs)\n",
    "    mfccs_delta2 = librosa.feature.delta(mfccs, order=2)\n",
    "    \n",
    "    # Concatenate MFCC and delta features\n",
    "    combined = np.concatenate((mfccs, mfccs_delta, mfccs_delta2), axis=0)\n",
    "    combined_scaled = np.mean(combined.T, axis=0)\n",
    "    \n",
    "    return combined_scaled\n"
   ]
  },
  {
   "cell_type": "code",
   "execution_count": 3,
   "id": "1d9369aa-b440-4abc-a94c-8fa1d5d1059d",
   "metadata": {},
   "outputs": [],
   "source": [
    "# Function to load the dataset and extract features for each file\n",
    "def load_dataset(data_path):\n",
    "    labels = []\n",
    "    features = []\n",
    "    for speaker in os.listdir(data_path):\n",
    "        speaker_path = os.path.join(data_path, speaker)\n",
    "        if os.path.isdir(speaker_path):\n",
    "            for file in os.listdir(speaker_path):\n",
    "                file_path = os.path.join(speaker_path, file)\n",
    "                if file_path.endswith('.wav'):\n",
    "                    features.append(extract_features(file_path))\n",
    "                    labels.append(speaker)\n",
    "    return np.array(features), np.array(labels)\n",
    "\n",
    "# Load dataset\n",
    "data_path = r\"C:\\Users\\Hp\\Downloads\\Speech Recognition\\dataset\"\n",
    "features, labels = load_dataset(data_path)\n"
   ]
  },
  {
   "cell_type": "code",
   "execution_count": null,
   "id": "d60a4da1-137d-4066-a39e-e585c11a6045",
   "metadata": {},
   "outputs": [],
   "source": [
    "# Encode labels (speaker names)\n",
    "label_encoder = LabelEncoder()\n",
    "encoded_labels = label_encoder.fit_transform(labels)\n",
    "\n",
    "# Split dataset into training and test sets\n",
    "X_train, X_test, y_train, y_test = train_test_split(features, encoded_labels, test_size=0.2, random_state=42)"
   ]
  }
 ],
 "metadata": {
  "kernelspec": {
   "display_name": "Python 3 (ipykernel)",
   "language": "python",
   "name": "python3"
  },
  "language_info": {
   "codemirror_mode": {
    "name": "ipython",
    "version": 3
   },
   "file_extension": ".py",
   "mimetype": "text/x-python",
   "name": "python",
   "nbconvert_exporter": "python",
   "pygments_lexer": "ipython3",
   "version": "3.12.4"
  }
 },
 "nbformat": 4,
 "nbformat_minor": 5
}
